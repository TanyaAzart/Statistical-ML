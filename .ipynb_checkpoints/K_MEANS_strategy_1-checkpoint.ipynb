{
 "cells": [
  {
   "cell_type": "code",
   "execution_count": null,
   "metadata": {},
   "outputs": [],
   "source": [
    "import numpy as np\n",
    "import math\n",
    "import matplotlib.pyplot as plt\n",
    "from sklearn.cluster import KMeans"
   ]
  },
  {
   "cell_type": "code",
   "execution_count": null,
   "metadata": {},
   "outputs": [],
   "source": [
    "# load data!\n",
    "data = np.load('AllSamples.npy')\n",
    "\n",
    "# set initial points!\n",
    "k1= None\n",
    "i_point1=None\n",
    "k2=None\n",
    "i_point2=None \n",
    "\n",
    "print(k1)\n",
    "print(i_point1)\n",
    "print(k2)\n",
    "print(i_point2)"
   ]
  },
  {
   "cell_type": "code",
   "execution_count": null,
   "metadata": {},
   "outputs": [],
   "source": [
    "# a and b are numpy arrays\n",
    "def distance (a,b):\n",
    "    return math.sqrt(((a-b)**2).sum())\n",
    "\n",
    "# cluster is a numpy array\n",
    "def wcss(cluster):\n",
    "    wcss=0.0\n",
    "    mean = cluster.mean(axis=0)\n",
    "    for point in cluster:\n",
    "        wcss+= distance(point, mean)**2\n",
    "    return wcss\n",
    "\n",
    "def kmeans (data, k):\n",
    "                  \n",
    "    best_obj_func = []\n",
    "    \n",
    "    best_centers = []         \n",
    "    \n",
    "    \n",
    "    for j in range(10):\n",
    "        \n",
    "        centers = [] \n",
    "        \n",
    "        #init = [[7.10604472,1.19751007],[6.8950152,0.95350302],[4.05095774,4.05212767],\n",
    "        #[5.48121965,6.55171777],[3.0093283,1.45065717]]\n",
    "    \n",
    "        #init = [[5.14468217,3.26589278],[3.13088669,6.30135711],[7.52963009,8.79617112]]\n",
    "    \n",
    "        #\"\"\"\n",
    "        \n",
    "        init = []\n",
    "\n",
    "        while len(init) < k:\n",
    "\n",
    "            index= round(np.random.random()*(len(data)-1))\n",
    "\n",
    "            if (init==data[index][0]).any() and (init==data[index][1]).any():\n",
    "                continue\n",
    "            else:\n",
    "                init.append(data[index])\n",
    "            #\"\"\"    \n",
    "\n",
    "        centers.append(init) \n",
    "\n",
    "        iter = 0\n",
    "\n",
    "        while iter < 300:\n",
    "\n",
    "\n",
    "            clusters = []\n",
    "\n",
    "\n",
    "            for i in range(k):\n",
    "\n",
    "                clusters.append([])\n",
    "\n",
    "\n",
    "            for point in data:\n",
    "\n",
    "                distances=[]     \n",
    "\n",
    "\n",
    "                for i in range(k):\n",
    "\n",
    "                    dist = distance(point, centers[iter][i])\n",
    "                    distances.append(dist)                \n",
    "\n",
    "                ind = distances.index(np.array(distances).min())\n",
    "\n",
    "                clusters[ind].append(point)     \n",
    "\n",
    "\n",
    "            wcss_iter = 0.0\n",
    "\n",
    "            new_centers = []        \n",
    "\n",
    "            for cluster in clusters:\n",
    "                wcss_iter += wcss(np.array(cluster))\n",
    "                mu = np.array(cluster).mean(axis=0)\n",
    "                new_centers.append(mu) \n",
    "\n",
    "            centers.append(new_centers)\n",
    "\n",
    "\n",
    "            if (len(centers) > 2) and (np.array_equal(centers[iter], centers[iter-1])):\n",
    "                best_obj_func.append(wcss_iter)\n",
    "                best_centers.append(centers[-1])\n",
    "                break\n",
    "\n",
    "            iter += 1\n",
    "   \n",
    "    best_index = best_obj_func.index(np.array(best_obj_func).min())\n",
    "    return (best_obj_func[best_index], best_centers[best_index])     "
   ]
  },
  {
   "cell_type": "code",
   "execution_count": null,
   "metadata": {},
   "outputs": [],
   "source": [
    "kmeans(data,2)"
   ]
  },
  {
   "cell_type": "code",
   "execution_count": null,
   "metadata": {},
   "outputs": [],
   "source": [
    "kmeans(data,3)"
   ]
  },
  {
   "cell_type": "code",
   "execution_count": null,
   "metadata": {},
   "outputs": [],
   "source": [
    "# compare with sklearn\n",
    "k_means = KMeans(3)\n",
    "k_means.fit(data)\n",
    "print(k_means.inertia_)\n",
    "print(k_means.cluster_centers_)"
   ]
  },
  {
   "cell_type": "code",
   "execution_count": null,
   "metadata": {},
   "outputs": [],
   "source": [
    "wcss_plt = []\n",
    "for k in range(2,11):\n",
    "    a=kmeans(data,k)\n",
    "    wcss_plt.append(a[0])\n",
    "\n",
    "\n",
    "x = range(2,11)\n",
    "y=wcss_plt\n",
    "plt.plot(x,y)\n",
    "plt.xlabel('number of clusters')\n",
    "plt.ylabel('loss function')"
   ]
  }
 ],
 "metadata": {
  "kernelspec": {
   "display_name": "Python 3",
   "language": "python",
   "name": "python3"
  },
  "language_info": {
   "codemirror_mode": {
    "name": "ipython",
    "version": 3
   },
   "file_extension": ".py",
   "mimetype": "text/x-python",
   "name": "python",
   "nbconvert_exporter": "python",
   "pygments_lexer": "ipython3",
   "version": "3.7.6"
  }
 },
 "nbformat": 4,
 "nbformat_minor": 4
}
