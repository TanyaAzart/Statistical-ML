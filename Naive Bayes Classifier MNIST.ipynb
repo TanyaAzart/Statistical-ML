{
 "cells": [
  {
   "cell_type": "code",
   "execution_count": null,
   "metadata": {},
   "outputs": [],
   "source": [
    "import numpy as np\n",
    "import math"
   ]
  },
  {
   "cell_type": "code",
   "execution_count": null,
   "metadata": {},
   "outputs": [],
   "source": [
    "# load train and test sets first!\n",
    "train0=None\n",
    "train1=None\n",
    "test0=None\n",
    "test1=None"
   ]
  },
  {
   "cell_type": "code",
   "execution_count": null,
   "metadata": {},
   "outputs": [],
   "source": [
    "train0.shape"
   ]
  },
  {
   "cell_type": "code",
   "execution_count": null,
   "metadata": {},
   "outputs": [],
   "source": [
    "train1.shape"
   ]
  },
  {
   "cell_type": "code",
   "execution_count": null,
   "metadata": {},
   "outputs": [],
   "source": [
    "test0.shape"
   ]
  },
  {
   "cell_type": "code",
   "execution_count": null,
   "metadata": {},
   "outputs": [],
   "source": [
    "test1.shape"
   ]
  },
  {
   "cell_type": "code",
   "execution_count": null,
   "metadata": {},
   "outputs": [],
   "source": [
    "#create lists with the variables for the train0 set \n",
    "#and a list of tuples with two variables for each image in the set\n",
    "av_br0 = []\n",
    "std0 = []\n",
    "list0 = []\n",
    "\n",
    "for image in train0:\n",
    "    av_br = np.average(image)\n",
    "    std = np.std(image)\n",
    "    av_br0.append(av_br) \n",
    "    std0.append(std)\n",
    "    list0.append([av_br, std])\n",
    "    \n",
    "data0 = np.array(list0) \n",
    "data0.shape"
   ]
  },
  {
   "cell_type": "code",
   "execution_count": null,
   "metadata": {},
   "outputs": [],
   "source": [
    "#create lists with the variables for the train1 set \n",
    "#and a list of tuples with two variables for each image in the set\n",
    "av_br1 = []\n",
    "std1 = []\n",
    "list1 = []\n",
    "\n",
    "for image in train1:\n",
    "    av_br = np.average(image)\n",
    "    std = np.std(image)\n",
    "    av_br1.append(av_br) \n",
    "    std1.append(std)\n",
    "    list1.append([av_br, std])\n",
    "    \n",
    "data1 = np.array(list1) \n",
    "data1.shape"
   ]
  },
  {
   "cell_type": "code",
   "execution_count": null,
   "metadata": {},
   "outputs": [],
   "source": [
    "#Mean of feature1 for digit0\n",
    "mean_feature1_0 = round(np.mean(av_br0),1)\n",
    "\n",
    "#Variance of feature1 for digit0\n",
    "var_feature1_0 = round(np.var(av_br0),1)\n",
    "\n",
    "#Mean of feature2 for digit0\n",
    "mean_feature2_0 = round(np.mean(std0),1)\n",
    "\n",
    "#Variance of feature2 for digit0\n",
    "var_feature2_0 = round(np.var(std0), 1)\n",
    "\n",
    "#Mean of feature1 for digit1\n",
    "mean_feature1_1 = round(np.mean(av_br1),1)\n",
    "\n",
    "#Variance of feature1 for digit1\n",
    "var_feature1_1 = round(np.var(av_br1),1)\n",
    "\n",
    "#Mean of feature2 for digit1\n",
    "mean_feature2_1 = round(np.mean(std1),1)\n",
    "\n",
    "#Variance of feature2 for digit1\n",
    "var_feature2_1 = round(np.var(std1),1)\n",
    "\n",
    "print('Mean of feature1 for digit0: ', mean_feature1_0)\n",
    "print('Variance of feature1 for digit0: ', var_feature1_0)\n",
    "print('Mean of feature2 for digit0: ', mean_feature2_0)\n",
    "print('Variance of feature2 for digit0: ', var_feature2_0)\n",
    "print('Mean of feature1 for digit1: ', mean_feature1_1)\n",
    "print('Variance of feature1 for digit1: ', var_feature1_1) \n",
    "print('Mean of feature2 for digit1: ', mean_feature2_1)\n",
    "print('Variance of feature2 for digit1: ', var_feature2_1)"
   ]
  },
  {
   "cell_type": "code",
   "execution_count": null,
   "metadata": {},
   "outputs": [],
   "source": [
    "#define function calculating probabilities for each feature in the two sets\n",
    "def P1_0(x):\n",
    "    P1_0 = math.exp(-(x - mean_feature1_0)**2/(2*var_feature1_0))/math.sqrt(2*math.pi*var_feature1_0)\n",
    "    return P1_0\n",
    "\n",
    "def P2_0(x):\n",
    "    P2_0 = math.exp(-(x - mean_feature2_0)**2/(2*var_feature2_0))/math.sqrt(2*math.pi*var_feature2_0)\n",
    "    return P2_0\n",
    "\n",
    "def P1_1(x):\n",
    "    P1_1 = math.exp(-(x - mean_feature1_1)**2/(2*var_feature1_1))/math.sqrt(2*math.pi*var_feature1_1)\n",
    "    return P1_1\n",
    "\n",
    "def P2_1(x):\n",
    "    P2_1 = math.exp(-(x - mean_feature2_1)**2/(2*var_feature2_1))/math.sqrt(2*math.pi*var_feature2_1)\n",
    "    return P2_1\n",
    "\n",
    "#define a classifying function\n",
    "def classifier (data):\n",
    "    zeros = 0\n",
    "    ones = 0\n",
    "    for row in data:          \n",
    "        P0 = P1_0(row[0]) * P2_0(row[1])\n",
    "        P1 = P1_1(row[0]) * P2_1(row[1])\n",
    "        if P0 > P1:\n",
    "            zeros += 1\n",
    "        else:\n",
    "            ones += 1\n",
    "    return (zeros, ones)"
   ]
  },
  {
   "cell_type": "code",
   "execution_count": null,
   "metadata": {},
   "outputs": [],
   "source": [
    "#create lists with the variables for the test0 set \n",
    "#and a list of tuples with two variables for each image in the set\n",
    "list0_test = []\n",
    "\n",
    "for image in test0:\n",
    "    av_br = np.average(image)\n",
    "    std = np.std(image)\n",
    "    list0_test.append([av_br,std])  \n",
    "    \n",
    "data0_test = np.array(list0_test) \n",
    "data0_test.shape"
   ]
  },
  {
   "cell_type": "code",
   "execution_count": null,
   "metadata": {},
   "outputs": [],
   "source": [
    "#create lists with the variables for the test1 set \n",
    "#and a list of tuples with two variables for each image in the set\n",
    "list1_test = []\n",
    "\n",
    "for image in test1:\n",
    "    av_br = np.average(image)\n",
    "    std = np.std(image)\n",
    "    list1_test.append([av_br,std])  \n",
    "\n",
    "data1_test = np.array(list1_test) \n",
    "data1_test.shape"
   ]
  },
  {
   "cell_type": "code",
   "execution_count": null,
   "metadata": {},
   "outputs": [],
   "source": [
    "#test the set with 'zero' images\n",
    "result0 = classifier(data0_test)\n",
    "\n",
    "result0"
   ]
  },
  {
   "cell_type": "code",
   "execution_count": null,
   "metadata": {},
   "outputs": [],
   "source": [
    "#test the set with 'one' images\n",
    "result1 = classifier(data1_test)\n",
    "\n",
    "result1"
   ]
  },
  {
   "cell_type": "code",
   "execution_count": null,
   "metadata": {},
   "outputs": [],
   "source": [
    "#calculate accuracy of predicting zeros\n",
    "accuracy0 = result0[0] / (result0[0] + result0[1])\n",
    "\n",
    "accuracy0"
   ]
  },
  {
   "cell_type": "code",
   "execution_count": null,
   "metadata": {},
   "outputs": [],
   "source": [
    "#calculate accuracy of predicting ones\n",
    "accuracy1 = result1[1] / (result1[0] + result1[1])\n",
    "\n",
    "accuracy1"
   ]
  }
 ],
 "metadata": {
  "kernelspec": {
   "display_name": "Python 3",
   "language": "python",
   "name": "python3"
  },
  "language_info": {
   "codemirror_mode": {
    "name": "ipython",
    "version": 3
   },
   "file_extension": ".py",
   "mimetype": "text/x-python",
   "name": "python",
   "nbconvert_exporter": "python",
   "pygments_lexer": "ipython3",
   "version": "3.7.6"
  }
 },
 "nbformat": 4,
 "nbformat_minor": 4
}
